{
 "cells": [
  {
   "cell_type": "markdown",
   "metadata": {},
   "source": [
    "### Import Libraries"
   ]
  },
  {
   "cell_type": "code",
   "execution_count": 1,
   "metadata": {},
   "outputs": [],
   "source": [
    "import os\n",
    "import pandas as pd\n",
    "import numpy as np\n",
    "from sklearn.preprocessing import MinMaxScaler, LabelEncoder\n",
    "import matplotlib.pyplot as plt\n",
    "import seaborn as sns\n",
    "from sklearn.model_selection import train_test_split\n",
    "from sklearn.ensemble import BaggingClassifier\n",
    "from sklearn.metrics import accuracy_score\n",
    "from sklearn.tree import DecisionTreeClassifier\n",
    "from sklearn.ensemble import RandomForestClassifier\n",
    "from sklearn.metrics import accuracy_score\n",
    "from sklearn.dummy import DummyClassifier\n",
    "from sklearn.ensemble import AdaBoostClassifier\n",
    "from sklearn.tree import DecisionTreeClassifier\n",
    "from sklearn.ensemble import RandomForestClassifier, VotingClassifier\n",
    "from tqdm import tqdm\n",
    "import random\n",
    "\n",
    "\n",
    "cwd = os.getcwd()"
   ]
  },
  {
   "cell_type": "markdown",
   "metadata": {},
   "source": [
    "### Open Dataset and Data review"
   ]
  },
  {
   "cell_type": "code",
   "execution_count": 13,
   "metadata": {},
   "outputs": [
    {
     "data": {
      "text/html": [
       "<div>\n",
       "<style scoped>\n",
       "    .dataframe tbody tr th:only-of-type {\n",
       "        vertical-align: middle;\n",
       "    }\n",
       "\n",
       "    .dataframe tbody tr th {\n",
       "        vertical-align: top;\n",
       "    }\n",
       "\n",
       "    .dataframe thead th {\n",
       "        text-align: right;\n",
       "    }\n",
       "</style>\n",
       "<table border=\"1\" class=\"dataframe\">\n",
       "  <thead>\n",
       "    <tr style=\"text-align: right;\">\n",
       "      <th></th>\n",
       "      <th>Source Port</th>\n",
       "      <th>Destination Port</th>\n",
       "      <th>NAT Source Port</th>\n",
       "      <th>NAT Destination Port</th>\n",
       "      <th>Action</th>\n",
       "      <th>Bytes</th>\n",
       "      <th>Bytes Sent</th>\n",
       "      <th>Bytes Received</th>\n",
       "      <th>Packets</th>\n",
       "      <th>Elapsed Time (sec)</th>\n",
       "      <th>pkts_sent</th>\n",
       "      <th>pkts_received</th>\n",
       "    </tr>\n",
       "  </thead>\n",
       "  <tbody>\n",
       "    <tr>\n",
       "      <th>0</th>\n",
       "      <td>57222</td>\n",
       "      <td>53</td>\n",
       "      <td>54587</td>\n",
       "      <td>53</td>\n",
       "      <td>allow</td>\n",
       "      <td>177</td>\n",
       "      <td>94</td>\n",
       "      <td>83</td>\n",
       "      <td>2</td>\n",
       "      <td>30</td>\n",
       "      <td>1</td>\n",
       "      <td>1</td>\n",
       "    </tr>\n",
       "    <tr>\n",
       "      <th>1</th>\n",
       "      <td>56258</td>\n",
       "      <td>3389</td>\n",
       "      <td>56258</td>\n",
       "      <td>3389</td>\n",
       "      <td>allow</td>\n",
       "      <td>4768</td>\n",
       "      <td>1600</td>\n",
       "      <td>3168</td>\n",
       "      <td>19</td>\n",
       "      <td>17</td>\n",
       "      <td>10</td>\n",
       "      <td>9</td>\n",
       "    </tr>\n",
       "    <tr>\n",
       "      <th>2</th>\n",
       "      <td>6881</td>\n",
       "      <td>50321</td>\n",
       "      <td>43265</td>\n",
       "      <td>50321</td>\n",
       "      <td>allow</td>\n",
       "      <td>238</td>\n",
       "      <td>118</td>\n",
       "      <td>120</td>\n",
       "      <td>2</td>\n",
       "      <td>1199</td>\n",
       "      <td>1</td>\n",
       "      <td>1</td>\n",
       "    </tr>\n",
       "    <tr>\n",
       "      <th>3</th>\n",
       "      <td>50553</td>\n",
       "      <td>3389</td>\n",
       "      <td>50553</td>\n",
       "      <td>3389</td>\n",
       "      <td>allow</td>\n",
       "      <td>3327</td>\n",
       "      <td>1438</td>\n",
       "      <td>1889</td>\n",
       "      <td>15</td>\n",
       "      <td>17</td>\n",
       "      <td>8</td>\n",
       "      <td>7</td>\n",
       "    </tr>\n",
       "    <tr>\n",
       "      <th>4</th>\n",
       "      <td>50002</td>\n",
       "      <td>443</td>\n",
       "      <td>45848</td>\n",
       "      <td>443</td>\n",
       "      <td>allow</td>\n",
       "      <td>25358</td>\n",
       "      <td>6778</td>\n",
       "      <td>18580</td>\n",
       "      <td>31</td>\n",
       "      <td>16</td>\n",
       "      <td>13</td>\n",
       "      <td>18</td>\n",
       "    </tr>\n",
       "    <tr>\n",
       "      <th>5</th>\n",
       "      <td>51465</td>\n",
       "      <td>443</td>\n",
       "      <td>39975</td>\n",
       "      <td>443</td>\n",
       "      <td>allow</td>\n",
       "      <td>3961</td>\n",
       "      <td>1595</td>\n",
       "      <td>2366</td>\n",
       "      <td>21</td>\n",
       "      <td>16</td>\n",
       "      <td>12</td>\n",
       "      <td>9</td>\n",
       "    </tr>\n",
       "    <tr>\n",
       "      <th>6</th>\n",
       "      <td>60513</td>\n",
       "      <td>47094</td>\n",
       "      <td>45469</td>\n",
       "      <td>47094</td>\n",
       "      <td>allow</td>\n",
       "      <td>320</td>\n",
       "      <td>140</td>\n",
       "      <td>180</td>\n",
       "      <td>6</td>\n",
       "      <td>7</td>\n",
       "      <td>3</td>\n",
       "      <td>3</td>\n",
       "    </tr>\n",
       "    <tr>\n",
       "      <th>7</th>\n",
       "      <td>50049</td>\n",
       "      <td>443</td>\n",
       "      <td>21285</td>\n",
       "      <td>443</td>\n",
       "      <td>allow</td>\n",
       "      <td>7912</td>\n",
       "      <td>3269</td>\n",
       "      <td>4643</td>\n",
       "      <td>23</td>\n",
       "      <td>96</td>\n",
       "      <td>12</td>\n",
       "      <td>11</td>\n",
       "    </tr>\n",
       "    <tr>\n",
       "      <th>8</th>\n",
       "      <td>52244</td>\n",
       "      <td>58774</td>\n",
       "      <td>2211</td>\n",
       "      <td>58774</td>\n",
       "      <td>allow</td>\n",
       "      <td>70</td>\n",
       "      <td>70</td>\n",
       "      <td>0</td>\n",
       "      <td>1</td>\n",
       "      <td>5</td>\n",
       "      <td>1</td>\n",
       "      <td>0</td>\n",
       "    </tr>\n",
       "    <tr>\n",
       "      <th>9</th>\n",
       "      <td>50627</td>\n",
       "      <td>443</td>\n",
       "      <td>16215</td>\n",
       "      <td>443</td>\n",
       "      <td>allow</td>\n",
       "      <td>8256</td>\n",
       "      <td>1674</td>\n",
       "      <td>6582</td>\n",
       "      <td>31</td>\n",
       "      <td>75</td>\n",
       "      <td>15</td>\n",
       "      <td>16</td>\n",
       "    </tr>\n",
       "  </tbody>\n",
       "</table>\n",
       "</div>"
      ],
      "text/plain": [
       "   Source Port  Destination Port  NAT Source Port  NAT Destination Port  \\\n",
       "0        57222                53            54587                    53   \n",
       "1        56258              3389            56258                  3389   \n",
       "2         6881             50321            43265                 50321   \n",
       "3        50553              3389            50553                  3389   \n",
       "4        50002               443            45848                   443   \n",
       "5        51465               443            39975                   443   \n",
       "6        60513             47094            45469                 47094   \n",
       "7        50049               443            21285                   443   \n",
       "8        52244             58774             2211                 58774   \n",
       "9        50627               443            16215                   443   \n",
       "\n",
       "  Action  Bytes  Bytes Sent  Bytes Received  Packets  Elapsed Time (sec)  \\\n",
       "0  allow    177          94              83        2                  30   \n",
       "1  allow   4768        1600            3168       19                  17   \n",
       "2  allow    238         118             120        2                1199   \n",
       "3  allow   3327        1438            1889       15                  17   \n",
       "4  allow  25358        6778           18580       31                  16   \n",
       "5  allow   3961        1595            2366       21                  16   \n",
       "6  allow    320         140             180        6                   7   \n",
       "7  allow   7912        3269            4643       23                  96   \n",
       "8  allow     70          70               0        1                   5   \n",
       "9  allow   8256        1674            6582       31                  75   \n",
       "\n",
       "   pkts_sent  pkts_received  \n",
       "0          1              1  \n",
       "1         10              9  \n",
       "2          1              1  \n",
       "3          8              7  \n",
       "4         13             18  \n",
       "5         12              9  \n",
       "6          3              3  \n",
       "7         12             11  \n",
       "8          1              0  \n",
       "9         15             16  "
      ]
     },
     "execution_count": 13,
     "metadata": {},
     "output_type": "execute_result"
    }
   ],
   "source": [
    "data_dir = os.path.join(cwd, 'data/')\n",
    "data = pd.read_csv(os.path.join(data_dir, 'log2.csv'))\n",
    "data.head(10)"
   ]
  },
  {
   "cell_type": "code",
   "execution_count": 14,
   "metadata": {},
   "outputs": [
    {
     "data": {
      "text/plain": [
       "Source Port              int64\n",
       "Destination Port         int64\n",
       "NAT Source Port          int64\n",
       "NAT Destination Port     int64\n",
       "Action                  object\n",
       "Bytes                    int64\n",
       "Bytes Sent               int64\n",
       "Bytes Received           int64\n",
       "Packets                  int64\n",
       "Elapsed Time (sec)       int64\n",
       "pkts_sent                int64\n",
       "pkts_received            int64\n",
       "dtype: object"
      ]
     },
     "execution_count": 14,
     "metadata": {},
     "output_type": "execute_result"
    }
   ],
   "source": [
    "data.dtypes"
   ]
  },
  {
   "cell_type": "code",
   "execution_count": 15,
   "metadata": {},
   "outputs": [
    {
     "data": {
      "text/plain": [
       "Source Port             0\n",
       "Destination Port        0\n",
       "NAT Source Port         0\n",
       "NAT Destination Port    0\n",
       "Action                  0\n",
       "Bytes                   0\n",
       "Bytes Sent              0\n",
       "Bytes Received          0\n",
       "Packets                 0\n",
       "Elapsed Time (sec)      0\n",
       "pkts_sent               0\n",
       "pkts_received           0\n",
       "dtype: int64"
      ]
     },
     "execution_count": 15,
     "metadata": {},
     "output_type": "execute_result"
    }
   ],
   "source": [
    "data.isna().sum()"
   ]
  },
  {
   "cell_type": "markdown",
   "metadata": {},
   "source": [
    "### Data preprocessing and Data cleaning"
   ]
  },
  {
   "cell_type": "code",
   "execution_count": 19,
   "metadata": {},
   "outputs": [],
   "source": [
    "# declare utility functions\n",
    "def normalized(dataset, colmun):\n",
    "    dataset[colmun] = MinMaxScaler(feature_range=(0, 1)).fit_transform(dataset[colmun].values.reshape(-1,1))\n",
    "    return dataset\n",
    "\n",
    "def onehot_encode(dataset, column):\n",
    "    onehot = pd.get_dummies(dataset[column], prefix=\"{}_\".format(column), prefix_sep=\"\")\n",
    "    dataset = pd.concat([dataset, onehot], axis=1)\n",
    "    dataset = dataset.drop(column, axis=1)\n",
    "    return dataset\n",
    "\n",
    "def label_encode(dataset, column):\n",
    "    le = LabelEncoder()\n",
    "    dataset[column] = le.fit_transform(dataset[column])\n",
    "    return dataset\n",
    "\n",
    "def show_corr(dataset):\n",
    "    plt.figure(figsize=(25,20))\n",
    "    corr = dataset.corr()\n",
    "    sns.heatmap(corr, xticklabels=corr.columns, yticklabels=corr.columns, annot=True)\n",
    "    plt.show()"
   ]
  },
  {
   "cell_type": "code",
   "execution_count": 20,
   "metadata": {},
   "outputs": [
    {
     "data": {
      "image/png": "[encoded data removed]",
      "text/plain": [
       "<Figure size 1800x1440 with 2 Axes>"
      ]
     },
     "metadata": {
      "needs_background": "light"
     },
     "output_type": "display_data"
    }
   ],
   "source": [
    "# numeric column processing\n",
    "for i in [\"Source Port\", \"Destination Port\", \"NAT Source Port\", \"NAT Destination Port\", \"Bytes\", \"Bytes Sent\", \"Bytes Received\", \"Packets\", \"Elapsed Time (sec)\", \"pkts_sent\", \"pkts_received\"]:\n",
    "    data = normalized(data, i)\n",
    "\n",
    "# binary field processing\n",
    "for i in [\"Action\"]:\n",
    "    data = label_encode(data, i)\n",
    "\n",
    "show_corr(data)"
   ]
  },
  {
   "cell_type": "code",
   "execution_count": 21,
   "metadata": {},
   "outputs": [
    {
     "data": {
      "text/html": [
       "<div>\n",
       "<style scoped>\n",
       "    .dataframe tbody tr th:only-of-type {\n",
       "        vertical-align: middle;\n",
       "    }\n",
       "\n",
       "    .dataframe tbody tr th {\n",
       "        vertical-align: top;\n",
       "    }\n",
       "\n",
       "    .dataframe thead th {\n",
       "        text-align: right;\n",
       "    }\n",
       "</style>\n",
       "<table border=\"1\" class=\"dataframe\">\n",
       "  <thead>\n",
       "    <tr style=\"text-align: right;\">\n",
       "      <th></th>\n",
       "      <th>Source Port</th>\n",
       "      <th>Destination Port</th>\n",
       "      <th>NAT Source Port</th>\n",
       "      <th>NAT Destination Port</th>\n",
       "      <th>Action</th>\n",
       "      <th>Bytes</th>\n",
       "      <th>Bytes Sent</th>\n",
       "      <th>Bytes Received</th>\n",
       "      <th>Packets</th>\n",
       "      <th>Elapsed Time (sec)</th>\n",
       "      <th>pkts_sent</th>\n",
       "      <th>pkts_received</th>\n",
       "    </tr>\n",
       "  </thead>\n",
       "  <tbody>\n",
       "    <tr>\n",
       "      <th>0</th>\n",
       "      <td>0.873165</td>\n",
       "      <td>0.000809</td>\n",
       "      <td>0.832944</td>\n",
       "      <td>0.000809</td>\n",
       "      <td>0</td>\n",
       "      <td>9.217251e-08</td>\n",
       "      <td>3.584694e-08</td>\n",
       "      <td>2.586622e-07</td>\n",
       "      <td>9.651438e-07</td>\n",
       "      <td>0.002772</td>\n",
       "      <td>0.000000</td>\n",
       "      <td>0.000003</td>\n",
       "    </tr>\n",
       "    <tr>\n",
       "      <th>1</th>\n",
       "      <td>0.858455</td>\n",
       "      <td>0.051713</td>\n",
       "      <td>0.858442</td>\n",
       "      <td>0.051713</td>\n",
       "      <td>0</td>\n",
       "      <td>3.708959e-06</td>\n",
       "      <td>1.623655e-06</td>\n",
       "      <td>9.872794e-06</td>\n",
       "      <td>1.737259e-05</td>\n",
       "      <td>0.001571</td>\n",
       "      <td>0.000012</td>\n",
       "      <td>0.000028</td>\n",
       "    </tr>\n",
       "    <tr>\n",
       "      <th>2</th>\n",
       "      <td>0.104999</td>\n",
       "      <td>0.767849</td>\n",
       "      <td>0.660182</td>\n",
       "      <td>0.767849</td>\n",
       "      <td>0</td>\n",
       "      <td>1.402283e-07</td>\n",
       "      <td>6.115066e-08</td>\n",
       "      <td>3.739695e-07</td>\n",
       "      <td>9.651438e-07</td>\n",
       "      <td>0.110772</td>\n",
       "      <td>0.000000</td>\n",
       "      <td>0.000003</td>\n",
       "    </tr>\n",
       "    <tr>\n",
       "      <th>3</th>\n",
       "      <td>0.771401</td>\n",
       "      <td>0.051713</td>\n",
       "      <td>0.771389</td>\n",
       "      <td>0.051713</td>\n",
       "      <td>0</td>\n",
       "      <td>2.573740e-06</td>\n",
       "      <td>1.452855e-06</td>\n",
       "      <td>5.886903e-06</td>\n",
       "      <td>1.351201e-05</td>\n",
       "      <td>0.001571</td>\n",
       "      <td>0.000009</td>\n",
       "      <td>0.000021</td>\n",
       "    </tr>\n",
       "    <tr>\n",
       "      <th>4</th>\n",
       "      <td>0.762993</td>\n",
       "      <td>0.006760</td>\n",
       "      <td>0.699596</td>\n",
       "      <td>0.006760</td>\n",
       "      <td>0</td>\n",
       "      <td>1.992974e-05</td>\n",
       "      <td>7.082933e-06</td>\n",
       "      <td>5.790294e-05</td>\n",
       "      <td>2.895431e-05</td>\n",
       "      <td>0.001478</td>\n",
       "      <td>0.000016</td>\n",
       "      <td>0.000055</td>\n",
       "    </tr>\n",
       "  </tbody>\n",
       "</table>\n",
       "</div>"
      ],
      "text/plain": [
       "   Source Port  Destination Port  NAT Source Port  NAT Destination Port  \\\n",
       "0     0.873165          0.000809         0.832944              0.000809   \n",
       "1     0.858455          0.051713         0.858442              0.051713   \n",
       "2     0.104999          0.767849         0.660182              0.767849   \n",
       "3     0.771401          0.051713         0.771389              0.051713   \n",
       "4     0.762993          0.006760         0.699596              0.006760   \n",
       "\n",
       "   Action         Bytes    Bytes Sent  Bytes Received       Packets  \\\n",
       "0       0  9.217251e-08  3.584694e-08    2.586622e-07  9.651438e-07   \n",
       "1       0  3.708959e-06  1.623655e-06    9.872794e-06  1.737259e-05   \n",
       "2       0  1.402283e-07  6.115066e-08    3.739695e-07  9.651438e-07   \n",
       "3       0  2.573740e-06  1.452855e-06    5.886903e-06  1.351201e-05   \n",
       "4       0  1.992974e-05  7.082933e-06    5.790294e-05  2.895431e-05   \n",
       "\n",
       "   Elapsed Time (sec)  pkts_sent  pkts_received  \n",
       "0            0.002772   0.000000       0.000003  \n",
       "1            0.001571   0.000012       0.000028  \n",
       "2            0.110772   0.000000       0.000003  \n",
       "3            0.001571   0.000009       0.000021  \n",
       "4            0.001478   0.000016       0.000055  "
      ]
     },
     "execution_count": 21,
     "metadata": {},
     "output_type": "execute_result"
    }
   ],
   "source": [
    "data.head()"
   ]
  },
  {
   "cell_type": "code",
   "execution_count": 22,
   "metadata": {},
   "outputs": [
    {
     "data": {
      "text/plain": [
       "Source Port             float64\n",
       "Destination Port        float64\n",
       "NAT Source Port         float64\n",
       "NAT Destination Port    float64\n",
       "Action                    int64\n",
       "Bytes                   float64\n",
       "Bytes Sent              float64\n",
       "Bytes Received          float64\n",
       "Packets                 float64\n",
       "Elapsed Time (sec)      float64\n",
       "pkts_sent               float64\n",
       "pkts_received           float64\n",
       "dtype: object"
      ]
     },
     "execution_count": 22,
     "metadata": {},
     "output_type": "execute_result"
    }
   ],
   "source": [
    "data.dtypes"
   ]
  },
  {
   "cell_type": "markdown",
   "metadata": {},
   "source": [
    "### Split train/test set"
   ]
  },
  {
   "cell_type": "code",
   "execution_count": 23,
   "metadata": {},
   "outputs": [
    {
     "name": "stdout",
     "output_type": "stream",
     "text": [
      "normalized data shape: (65532, 12)\n",
      "feature(x-axis) shape: (65532, 11)\n",
      "target(y-axis) shape: (65532,)\n",
      "x_train shape: (52425, 11)\n",
      "x_test shape: (13107, 11)\n",
      "y_train shape: (52425,)\n",
      "y_test shape: (13107,)\n"
     ]
    }
   ],
   "source": [
    "target, feature = data['Action'], data.drop(columns=['Action'], axis=1)\n",
    "print(f\"normalized data shape: {data.shape}\")\n",
    "print(f\"feature(x-axis) shape: {feature.shape}\")\n",
    "print(f\"target(y-axis) shape: {target.shape}\")\n",
    "\n",
    "x_train, x_test, y_train, y_test = train_test_split(feature, target, test_size=0.2, random_state=random.randint(0,100))\n",
    "\n",
    "print(f\"x_train shape: {x_train.shape}\")\n",
    "print(f\"x_test shape: {x_test.shape}\")\n",
    "print(f\"y_train shape: {y_train.shape}\")\n",
    "print(f\"y_test shape: {y_test.shape}\")"
   ]
  },
  {
   "cell_type": "markdown",
   "metadata": {},
   "source": [
    "### Baseline classfication accuracy"
   ]
  },
  {
   "cell_type": "code",
   "execution_count": 25,
   "metadata": {},
   "outputs": [
    {
     "name": "stdout",
     "output_type": "stream",
     "text": [
      "baseline Acc: 0.5773250934615091\n"
     ]
    }
   ],
   "source": [
    "# 此處使用 DummyClassifier 做為基準模型\n",
    "# 將策略指定為 'most_frequent'\n",
    "# 在這個策略下，模型總是回傳最頻繁出現的y-axis值\n",
    "dummy = DummyClassifier(strategy=\"most_frequent\")\n",
    "dummy.fit(x_train, y_train)\n",
    "baseAcc = dummy.score(x_test, y_test)\n",
    "print(f\"baseline Acc: {baseAcc}\")"
   ]
  },
  {
   "cell_type": "markdown",
   "metadata": {},
   "source": [
    "### Model Traning!!"
   ]
  },
  {
   "cell_type": "code",
   "execution_count": 27,
   "metadata": {},
   "outputs": [],
   "source": [
    "estimator_range = range(1, 20)"
   ]
  },
  {
   "cell_type": "markdown",
   "metadata": {},
   "source": [
    "### Method 1: Bagging Classifier"
   ]
  },
  {
   "cell_type": "code",
   "execution_count": 28,
   "metadata": {},
   "outputs": [
    {
     "name": "stderr",
     "output_type": "stream",
     "text": [
      "100%|██████████| 19/19 [00:10<00:00,  1.85it/s]"
     ]
    },
    {
     "name": "stdout",
     "output_type": "stream",
     "text": [
      "[bagging] max score 0.9982452124818799 at 7\n"
     ]
    },
    {
     "name": "stderr",
     "output_type": "stream",
     "text": [
      "\n"
     ]
    },
    {
     "data": {
      "text/plain": [
       "Text(0, 0.5, 'Accuracy')"
      ]
     },
     "execution_count": 28,
     "metadata": {},
     "output_type": "execute_result"
    },
    {
     "data": {
      "image/png": "[encoded data removed]",
      "text/plain": [
       "<Figure size 432x288 with 1 Axes>"
      ]
     },
     "metadata": {
      "needs_background": "light"
     },
     "output_type": "display_data"
    }
   ],
   "source": [
    "max_score_bag, max_k_bag = -1, -1\n",
    "\n",
    "score_bag = []\n",
    "for k in tqdm(estimator_range):\n",
    "    bag = BaggingClassifier(n_estimators=k)\n",
    "    bag.fit(x_train, y_train)\n",
    "    score_bag.append(bag.score(x_test, y_test))\n",
    "    if score_bag[-1] > max_score_bag:\n",
    "        max_score_bag, max_k_bag = score_bag[-1], k\n",
    "\n",
    "print(f\"[bagging] max score {max_score_bag} at {max_k_bag}\")\n",
    "\n",
    "plt.plot(estimator_range, score_bag)\n",
    "plt.xlabel('Value of n_estimators for Bagging Classifier')\n",
    "plt.ylabel('Accuracy')"
   ]
  },
  {
   "cell_type": "code",
   "execution_count": 29,
   "metadata": {},
   "outputs": [
    {
     "name": "stdout",
     "output_type": "stream",
     "text": [
      "Accuracy: 0.998092622262913\n"
     ]
    }
   ],
   "source": [
    "# using DecisionTreeClassifier as weak estimator\n",
    "base_est1 = DecisionTreeClassifier()\n",
    "bagging = BaggingClassifier(base_estimator=base_est1, n_estimators=max_k_bag, random_state=42)\n",
    "bagging.fit(x_train, y_train)\n",
    "bag_predict = bagging.predict(x_test)\n",
    "print(f\"Accuracy: {accuracy_score(y_test, bag_predict)}\")"
   ]
  },
  {
   "cell_type": "markdown",
   "metadata": {},
   "source": [
    "### Method 2: Random Forest Model"
   ]
  },
  {
   "cell_type": "code",
   "execution_count": 30,
   "metadata": {},
   "outputs": [
    {
     "name": "stderr",
     "output_type": "stream",
     "text": [
      "100%|██████████| 19/19 [00:05<00:00,  3.43it/s]"
     ]
    },
    {
     "name": "stdout",
     "output_type": "stream",
     "text": [
      "[Random Forest] max score 0.9983215075913634 at 13\n"
     ]
    },
    {
     "name": "stderr",
     "output_type": "stream",
     "text": [
      "\n"
     ]
    },
    {
     "data": {
      "text/plain": [
       "Text(0, 0.5, 'Accuracy')"
      ]
     },
     "execution_count": 30,
     "metadata": {},
     "output_type": "execute_result"
    },
    {
     "data": {
      "image/png": "[encoded data removed]",
      "text/plain": [
       "<Figure size 432x288 with 1 Axes>"
      ]
     },
     "metadata": {
      "needs_background": "light"
     },
     "output_type": "display_data"
    }
   ],
   "source": [
    "max_score_rfc, max_k_rfc = -1, -1\n",
    "\n",
    "score_rfc = []\n",
    "for k in tqdm(estimator_range):\n",
    "    rfc = RandomForestClassifier(n_estimators=k)\n",
    "    rfc.fit(x_train, y_train)\n",
    "    score_rfc.append(rfc.score(x_test, y_test))\n",
    "    if score_rfc[-1] > max_score_rfc:\n",
    "        max_score_rfc, max_k_rfc = score_rfc[-1], k\n",
    "\n",
    "print(f\"[Random Forest] max score {max_score_rfc} at {max_k_rfc}\")\n",
    "\n",
    "plt.plot(estimator_range, score_rfc)\n",
    "plt.xlabel('Value of n_estimators for Random Forest Classifier')\n",
    "plt.ylabel('Accuracy')"
   ]
  },
  {
   "cell_type": "code",
   "execution_count": 31,
   "metadata": {},
   "outputs": [
    {
     "name": "stdout",
     "output_type": "stream",
     "text": [
      "Accuracy: 0.9981689173723964\n"
     ]
    }
   ],
   "source": [
    "rfc = RandomForestClassifier(n_estimators=max_k_rfc, random_state=42)\n",
    "rfc.fit(x_train, y_train)\n",
    "rfc_predict = rfc.predict(x_test)\n",
    "print(f\"Accuracy: {accuracy_score(y_test, rfc_predict)}\")"
   ]
  },
  {
   "cell_type": "code",
   "execution_count": 32,
   "metadata": {},
   "outputs": [
    {
     "data": {
      "text/html": [
       "<div>\n",
       "<style scoped>\n",
       "    .dataframe tbody tr th:only-of-type {\n",
       "        vertical-align: middle;\n",
       "    }\n",
       "\n",
       "    .dataframe tbody tr th {\n",
       "        vertical-align: top;\n",
       "    }\n",
       "\n",
       "    .dataframe thead th {\n",
       "        text-align: right;\n",
       "    }\n",
       "</style>\n",
       "<table border=\"1\" class=\"dataframe\">\n",
       "  <thead>\n",
       "    <tr style=\"text-align: right;\">\n",
       "      <th></th>\n",
       "      <th>importance</th>\n",
       "    </tr>\n",
       "  </thead>\n",
       "  <tbody>\n",
       "    <tr>\n",
       "      <th>Destination Port</th>\n",
       "      <td>0.298325</td>\n",
       "    </tr>\n",
       "    <tr>\n",
       "      <th>Elapsed Time (sec)</th>\n",
       "      <td>0.156385</td>\n",
       "    </tr>\n",
       "    <tr>\n",
       "      <th>NAT Source Port</th>\n",
       "      <td>0.146531</td>\n",
       "    </tr>\n",
       "    <tr>\n",
       "      <th>Packets</th>\n",
       "      <td>0.127797</td>\n",
       "    </tr>\n",
       "    <tr>\n",
       "      <th>NAT Destination Port</th>\n",
       "      <td>0.113385</td>\n",
       "    </tr>\n",
       "    <tr>\n",
       "      <th>pkts_received</th>\n",
       "      <td>0.079811</td>\n",
       "    </tr>\n",
       "    <tr>\n",
       "      <th>Bytes Received</th>\n",
       "      <td>0.041359</td>\n",
       "    </tr>\n",
       "    <tr>\n",
       "      <th>Source Port</th>\n",
       "      <td>0.034536</td>\n",
       "    </tr>\n",
       "    <tr>\n",
       "      <th>pkts_sent</th>\n",
       "      <td>0.001388</td>\n",
       "    </tr>\n",
       "    <tr>\n",
       "      <th>Bytes Sent</th>\n",
       "      <td>0.000349</td>\n",
       "    </tr>\n",
       "  </tbody>\n",
       "</table>\n",
       "</div>"
      ],
      "text/plain": [
       "                      importance\n",
       "Destination Port        0.298325\n",
       "Elapsed Time (sec)      0.156385\n",
       "NAT Source Port         0.146531\n",
       "Packets                 0.127797\n",
       "NAT Destination Port    0.113385\n",
       "pkts_received           0.079811\n",
       "Bytes Received          0.041359\n",
       "Source Port             0.034536\n",
       "pkts_sent               0.001388\n",
       "Bytes Sent              0.000349"
      ]
     },
     "execution_count": 32,
     "metadata": {},
     "output_type": "execute_result"
    }
   ],
   "source": [
    "# find feature importance in RandomForestClassifier\n",
    "feature_importance = pd.DataFrame(rfc.feature_importances_, index=feature.columns, columns=['importance'])\n",
    "feature_importance.sort_values(by='importance', ascending=False, inplace=True)\n",
    "feature_importance.head(10)"
   ]
  },
  {
   "cell_type": "markdown",
   "metadata": {},
   "source": [
    "### Method 3: Ada Boost Model"
   ]
  },
  {
   "cell_type": "code",
   "execution_count": 33,
   "metadata": {},
   "outputs": [
    {
     "name": "stderr",
     "output_type": "stream",
     "text": [
      "100%|██████████| 19/19 [00:08<00:00,  2.21it/s]"
     ]
    },
    {
     "name": "stdout",
     "output_type": "stream",
     "text": [
      "[Ada Boost] max score 0.9983978027008469 at 11\n"
     ]
    },
    {
     "name": "stderr",
     "output_type": "stream",
     "text": [
      "\n"
     ]
    },
    {
     "data": {
      "text/plain": [
       "Text(0, 0.5, 'Accuracy')"
      ]
     },
     "execution_count": 33,
     "metadata": {},
     "output_type": "execute_result"
    },
    {
     "data": {
      "image/png": "[encoded data removed]",
      "text/plain": [
       "<Figure size 432x288 with 1 Axes>"
      ]
     },
     "metadata": {
      "needs_background": "light"
     },
     "output_type": "display_data"
    }
   ],
   "source": [
    "max_score_ada, max_k_ada = -1, -1\n",
    "\n",
    "score_ada = []\n",
    "for k in tqdm(estimator_range):\n",
    "    ada = AdaBoostClassifier(n_estimators=k)\n",
    "    ada.fit(x_train, y_train)\n",
    "    score_ada.append(ada.score(x_test, y_test))\n",
    "    if score_ada[-1] > max_score_ada:\n",
    "        max_score_ada, max_k_ada = score_ada[-1], k\n",
    "\n",
    "print(f\"[Ada Boost] max score {max_score_ada} at {max_k_ada}\")\n",
    "\n",
    "plt.plot(estimator_range, score_ada)\n",
    "plt.xlabel('Value of n_estimators for AdaBoost Classifier')\n",
    "plt.ylabel('Accuracy')"
   ]
  },
  {
   "cell_type": "code",
   "execution_count": 34,
   "metadata": {},
   "outputs": [
    {
     "name": "stdout",
     "output_type": "stream",
     "text": [
      "Accuracy: 0.9977111467154955\n"
     ]
    }
   ],
   "source": [
    "# using DecisionTreeClassifier as weak estimator\n",
    "base_est2 = DecisionTreeClassifier()\n",
    "ada = AdaBoostClassifier(base_estimator=base_est2, n_estimators=max_k_ada, random_state=42)\n",
    "ada.fit(x_train, y_train)\n",
    "ada_predict = ada.predict(x_test)\n",
    "print(f\"Accuracy: {accuracy_score(y_test, ada_predict)}\")"
   ]
  },
  {
   "cell_type": "markdown",
   "metadata": {},
   "source": [
    "### Make Classifier Together!"
   ]
  },
  {
   "cell_type": "code",
   "execution_count": 35,
   "metadata": {},
   "outputs": [
    {
     "name": "stdout",
     "output_type": "stream",
     "text": [
      "Accuracy: 0.998092622262913\n"
     ]
    }
   ],
   "source": [
    "voting = VotingClassifier(estimators=[('bag', bagging), ('rfc', rfc), ('ada', ada)], voting='hard')\n",
    "voting.fit(x_train, y_train)\n",
    "voting_predict = voting.predict(x_test)\n",
    "print(f\"Accuracy: {accuracy_score(y_test, voting_predict)}\")"
   ]
  }
 ],
 "metadata": {
  "interpreter": {
   "hash": "3de7772d93fba1a7f85d16b504edcae80b527917f6252137549a3b6cfc77eee7"
  },
  "kernelspec": {
   "display_name": "Python 3.6.12 ('torchenv')",
   "language": "python",
   "name": "python3"
  },
  "language_info": {
   "codemirror_mode": {
    "name": "ipython",
    "version": 3
   },
   "file_extension": ".py",
   "mimetype": "text/x-python",
   "name": "python",
   "nbconvert_exporter": "python",
   "pygments_lexer": "ipython3",
   "version": "3.6.12"
  },
  "orig_nbformat": 4
 },
 "nbformat": 4,
 "nbformat_minor": 2
}
